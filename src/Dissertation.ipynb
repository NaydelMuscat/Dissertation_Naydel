{
 "cells": [
  {
   "cell_type": "markdown",
   "metadata": {},
   "source": [
    "# Machine Learning Pipeline applied to recommender system using GAN based on Amazon review dataset"
   ]
  },
  {
   "cell_type": "markdown",
   "metadata": {},
   "source": [
    "## Data Acquisition"
   ]
  },
  {
   "cell_type": "code",
   "execution_count": 1,
   "metadata": {},
   "outputs": [],
   "source": [
    "import pandas as pd\n",
    "import numpy as np "
   ]
  },
  {
   "cell_type": "code",
   "execution_count": 2,
   "metadata": {},
   "outputs": [
    {
     "name": "stderr",
     "output_type": "stream",
     "text": [
      "C:\\Users\\User\\AppData\\Local\\Temp\\ipykernel_18620\\3413196348.py:1: DtypeWarning: Columns (6) have mixed types. Specify dtype option on import or set low_memory=False.\n",
      "  df_meta = pd.read_csv('C:/Users/User/OneDrive - Malta College of Arts, Science & Technology/3rd Year/Dissertation/data/meta_data.csv')\n"
     ]
    },
    {
     "data": {
      "text/html": [
       "<div>\n",
       "<style scoped>\n",
       "    .dataframe tbody tr th:only-of-type {\n",
       "        vertical-align: middle;\n",
       "    }\n",
       "\n",
       "    .dataframe tbody tr th {\n",
       "        vertical-align: top;\n",
       "    }\n",
       "\n",
       "    .dataframe thead th {\n",
       "        text-align: right;\n",
       "    }\n",
       "</style>\n",
       "<table border=\"1\" class=\"dataframe\">\n",
       "  <thead>\n",
       "    <tr style=\"text-align: right;\">\n",
       "      <th></th>\n",
       "      <th>category</th>\n",
       "      <th>tech1</th>\n",
       "      <th>description</th>\n",
       "      <th>fit</th>\n",
       "      <th>title</th>\n",
       "      <th>also_buy</th>\n",
       "      <th>tech2</th>\n",
       "      <th>brand</th>\n",
       "      <th>feature</th>\n",
       "      <th>rank</th>\n",
       "      <th>also_view</th>\n",
       "      <th>main_cat</th>\n",
       "      <th>similar_item</th>\n",
       "      <th>date</th>\n",
       "      <th>price</th>\n",
       "      <th>asin</th>\n",
       "      <th>imageURL</th>\n",
       "      <th>imageURLHighRes</th>\n",
       "      <th>details</th>\n",
       "    </tr>\n",
       "  </thead>\n",
       "  <tbody>\n",
       "    <tr>\n",
       "      <th>0</th>\n",
       "      <td>['Sports &amp; Outdoors', 'Sports &amp; Fitness', 'Oth...</td>\n",
       "      <td>NaN</td>\n",
       "      <td>['3 layers of super-soft polyester tulle can b...</td>\n",
       "      <td>NaN</td>\n",
       "      <td>Adult Tutu Assorted Colors (Turquoise)</td>\n",
       "      <td>[]</td>\n",
       "      <td>NaN</td>\n",
       "      <td>BubuBibi</td>\n",
       "      <td>['3 Layers - 100% Polyester Tulle, Hand Wash L...</td>\n",
       "      <td>712,899 in Clothing, Shoes &amp; Jewelry (</td>\n",
       "      <td>['B071LQWQBQ', 'B00M14DG0O', 'B076GTTY9W', 'B0...</td>\n",
       "      <td>&lt;img src=\"https://images-na.ssl-images-amazon....</td>\n",
       "      <td>NaN</td>\n",
       "      <td>&lt;div class=\"a-fixed-left-grid a-spacing-none\"&gt;...</td>\n",
       "      <td>$11.80</td>\n",
       "      <td>0000032042</td>\n",
       "      <td>[]</td>\n",
       "      <td>[]</td>\n",
       "      <td>NaN</td>\n",
       "    </tr>\n",
       "    <tr>\n",
       "      <th>1</th>\n",
       "      <td>['Sports &amp; Outdoors', 'Sports &amp; Fitness', 'Oth...</td>\n",
       "      <td>NaN</td>\n",
       "      <td>['3 layers of super-soft polyester tulle can b...</td>\n",
       "      <td>NaN</td>\n",
       "      <td>Bububibi Adult Ballet Tutu Cheetah Pink</td>\n",
       "      <td>[]</td>\n",
       "      <td>NaN</td>\n",
       "      <td>BubuBibi</td>\n",
       "      <td>['3 Layers - 100% Polyester Tulle, Hand Wash L...</td>\n",
       "      <td>712,899 in Clothing, Shoes &amp; Jewelry (</td>\n",
       "      <td>[]</td>\n",
       "      <td>&lt;img src=\"https://images-na.ssl-images-amazon....</td>\n",
       "      <td>NaN</td>\n",
       "      <td>&lt;div class=\"a-fixed-left-grid a-spacing-none\"&gt;...</td>\n",
       "      <td>$11.97</td>\n",
       "      <td>0000032069</td>\n",
       "      <td>[]</td>\n",
       "      <td>[]</td>\n",
       "      <td>NaN</td>\n",
       "    </tr>\n",
       "  </tbody>\n",
       "</table>\n",
       "</div>"
      ],
      "text/plain": [
       "                                            category tech1  \\\n",
       "0  ['Sports & Outdoors', 'Sports & Fitness', 'Oth...   NaN   \n",
       "1  ['Sports & Outdoors', 'Sports & Fitness', 'Oth...   NaN   \n",
       "\n",
       "                                         description  fit  \\\n",
       "0  ['3 layers of super-soft polyester tulle can b...  NaN   \n",
       "1  ['3 layers of super-soft polyester tulle can b...  NaN   \n",
       "\n",
       "                                     title also_buy tech2     brand  \\\n",
       "0   Adult Tutu Assorted Colors (Turquoise)       []   NaN  BubuBibi   \n",
       "1  Bububibi Adult Ballet Tutu Cheetah Pink       []   NaN  BubuBibi   \n",
       "\n",
       "                                             feature  \\\n",
       "0  ['3 Layers - 100% Polyester Tulle, Hand Wash L...   \n",
       "1  ['3 Layers - 100% Polyester Tulle, Hand Wash L...   \n",
       "\n",
       "                                     rank  \\\n",
       "0  712,899 in Clothing, Shoes & Jewelry (   \n",
       "1  712,899 in Clothing, Shoes & Jewelry (   \n",
       "\n",
       "                                           also_view  \\\n",
       "0  ['B071LQWQBQ', 'B00M14DG0O', 'B076GTTY9W', 'B0...   \n",
       "1                                                 []   \n",
       "\n",
       "                                            main_cat similar_item  \\\n",
       "0  <img src=\"https://images-na.ssl-images-amazon....          NaN   \n",
       "1  <img src=\"https://images-na.ssl-images-amazon....          NaN   \n",
       "\n",
       "                                                date   price        asin  \\\n",
       "0  <div class=\"a-fixed-left-grid a-spacing-none\">...  $11.80  0000032042   \n",
       "1  <div class=\"a-fixed-left-grid a-spacing-none\">...  $11.97  0000032069   \n",
       "\n",
       "  imageURL imageURLHighRes details  \n",
       "0       []              []     NaN  \n",
       "1       []              []     NaN  "
      ]
     },
     "execution_count": 2,
     "metadata": {},
     "output_type": "execute_result"
    }
   ],
   "source": [
    "df_meta = pd.read_csv('C:/Users/User/OneDrive - Malta College of Arts, Science & Technology/3rd Year/Dissertation/data/meta_data.csv')\n",
    "df_meta.head(2)"
   ]
  },
  {
   "cell_type": "code",
   "execution_count": 3,
   "metadata": {},
   "outputs": [
    {
     "name": "stderr",
     "output_type": "stream",
     "text": [
      "C:\\Users\\User\\AppData\\Local\\Temp\\ipykernel_18620\\2256101094.py:1: DtypeWarning: Columns (9) have mixed types. Specify dtype option on import or set low_memory=False.\n",
      "  df_sports_and_outdoors = pd.read_csv('C:/Users/User/OneDrive - Malta College of Arts, Science & Technology/3rd Year/Dissertation/data/sports_and_Outdoors.csv')\n"
     ]
    },
    {
     "data": {
      "text/html": [
       "<div>\n",
       "<style scoped>\n",
       "    .dataframe tbody tr th:only-of-type {\n",
       "        vertical-align: middle;\n",
       "    }\n",
       "\n",
       "    .dataframe tbody tr th {\n",
       "        vertical-align: top;\n",
       "    }\n",
       "\n",
       "    .dataframe thead th {\n",
       "        text-align: right;\n",
       "    }\n",
       "</style>\n",
       "<table border=\"1\" class=\"dataframe\">\n",
       "  <thead>\n",
       "    <tr style=\"text-align: right;\">\n",
       "      <th></th>\n",
       "      <th>overall</th>\n",
       "      <th>verified</th>\n",
       "      <th>reviewTime</th>\n",
       "      <th>reviewerID</th>\n",
       "      <th>asin</th>\n",
       "      <th>reviewerName</th>\n",
       "      <th>reviewText</th>\n",
       "      <th>summary</th>\n",
       "      <th>unixReviewTime</th>\n",
       "      <th>vote</th>\n",
       "      <th>style</th>\n",
       "      <th>image</th>\n",
       "    </tr>\n",
       "  </thead>\n",
       "  <tbody>\n",
       "    <tr>\n",
       "      <th>0</th>\n",
       "      <td>5.0</td>\n",
       "      <td>False</td>\n",
       "      <td>02 1, 2014</td>\n",
       "      <td>A23K73OVXJ04EG</td>\n",
       "      <td>0000031895</td>\n",
       "      <td>Lamb612000</td>\n",
       "      <td>It was as described and fit my 6 year old gran...</td>\n",
       "      <td>Neon Blue Tutu</td>\n",
       "      <td>1391212800</td>\n",
       "      <td>NaN</td>\n",
       "      <td>NaN</td>\n",
       "      <td>NaN</td>\n",
       "    </tr>\n",
       "    <tr>\n",
       "      <th>1</th>\n",
       "      <td>4.0</td>\n",
       "      <td>True</td>\n",
       "      <td>11 20, 2013</td>\n",
       "      <td>A2681T699HV6H1</td>\n",
       "      <td>0000031895</td>\n",
       "      <td>Courtney R</td>\n",
       "      <td>very cute and went great with my Halloween cos...</td>\n",
       "      <td>loved it!</td>\n",
       "      <td>1384905600</td>\n",
       "      <td>NaN</td>\n",
       "      <td>NaN</td>\n",
       "      <td>NaN</td>\n",
       "    </tr>\n",
       "  </tbody>\n",
       "</table>\n",
       "</div>"
      ],
      "text/plain": [
       "   overall  verified   reviewTime      reviewerID        asin reviewerName  \\\n",
       "0      5.0     False   02 1, 2014  A23K73OVXJ04EG  0000031895   Lamb612000   \n",
       "1      4.0      True  11 20, 2013  A2681T699HV6H1  0000031895   Courtney R   \n",
       "\n",
       "                                          reviewText         summary  \\\n",
       "0  It was as described and fit my 6 year old gran...  Neon Blue Tutu   \n",
       "1  very cute and went great with my Halloween cos...       loved it!   \n",
       "\n",
       "   unixReviewTime vote style image  \n",
       "0      1391212800  NaN   NaN   NaN  \n",
       "1      1384905600  NaN   NaN   NaN  "
      ]
     },
     "execution_count": 3,
     "metadata": {},
     "output_type": "execute_result"
    }
   ],
   "source": [
    "df_sports_and_outdoors = pd.read_csv('C:/Users/User/OneDrive - Malta College of Arts, Science & Technology/3rd Year/Dissertation/data/sports_and_Outdoors.csv')\n",
    "df_sports_and_outdoors.head(2)"
   ]
  },
  {
   "cell_type": "markdown",
   "metadata": {},
   "source": [
    "## Data Exploration"
   ]
  },
  {
   "cell_type": "code",
   "execution_count": 4,
   "metadata": {},
   "outputs": [
    {
     "name": "stdout",
     "output_type": "stream",
     "text": [
      "<class 'pandas.core.frame.DataFrame'>\n",
      "RangeIndex: 962300 entries, 0 to 962299\n",
      "Data columns (total 19 columns):\n",
      " #   Column           Non-Null Count   Dtype \n",
      "---  ------           --------------   ----- \n",
      " 0   category         962300 non-null  object\n",
      " 1   tech1            15953 non-null   object\n",
      " 2   description      962300 non-null  object\n",
      " 3   fit              41153 non-null   object\n",
      " 4   title            962284 non-null  object\n",
      " 5   also_buy         962300 non-null  object\n",
      " 6   tech2            31 non-null      object\n",
      " 7   brand            865273 non-null  object\n",
      " 8   feature          962300 non-null  object\n",
      " 9   rank             962300 non-null  object\n",
      " 10  also_view        962300 non-null  object\n",
      " 11  main_cat         958961 non-null  object\n",
      " 12  similar_item     22254 non-null   object\n",
      " 13  date             120450 non-null  object\n",
      " 14  price            405740 non-null  object\n",
      " 15  asin             962300 non-null  object\n",
      " 16  imageURL         962300 non-null  object\n",
      " 17  imageURLHighRes  962300 non-null  object\n",
      " 18  details          962162 non-null  object\n",
      "dtypes: object(19)\n",
      "memory usage: 139.5+ MB\n"
     ]
    }
   ],
   "source": [
    "df_meta.info()"
   ]
  },
  {
   "cell_type": "code",
   "execution_count": 5,
   "metadata": {},
   "outputs": [
    {
     "name": "stdout",
     "output_type": "stream",
     "text": [
      "<class 'pandas.core.frame.DataFrame'>\n",
      "RangeIndex: 12980837 entries, 0 to 12980836\n",
      "Data columns (total 12 columns):\n",
      " #   Column          Dtype  \n",
      "---  ------          -----  \n",
      " 0   overall         float64\n",
      " 1   verified        bool   \n",
      " 2   reviewTime      object \n",
      " 3   reviewerID      object \n",
      " 4   asin            object \n",
      " 5   reviewerName    object \n",
      " 6   reviewText      object \n",
      " 7   summary         object \n",
      " 8   unixReviewTime  int64  \n",
      " 9   vote            object \n",
      " 10  style           object \n",
      " 11  image           object \n",
      "dtypes: bool(1), float64(1), int64(1), object(9)\n",
      "memory usage: 1.1+ GB\n"
     ]
    }
   ],
   "source": [
    "df_sports_and_outdoors.info()"
   ]
  },
  {
   "cell_type": "code",
   "execution_count": 6,
   "metadata": {},
   "outputs": [
    {
     "data": {
      "text/html": [
       "<div>\n",
       "<style scoped>\n",
       "    .dataframe tbody tr th:only-of-type {\n",
       "        vertical-align: middle;\n",
       "    }\n",
       "\n",
       "    .dataframe tbody tr th {\n",
       "        vertical-align: top;\n",
       "    }\n",
       "\n",
       "    .dataframe thead th {\n",
       "        text-align: right;\n",
       "    }\n",
       "</style>\n",
       "<table border=\"1\" class=\"dataframe\">\n",
       "  <thead>\n",
       "    <tr style=\"text-align: right;\">\n",
       "      <th></th>\n",
       "      <th>category</th>\n",
       "      <th>tech1</th>\n",
       "      <th>description</th>\n",
       "      <th>fit</th>\n",
       "      <th>title</th>\n",
       "      <th>also_buy</th>\n",
       "      <th>tech2</th>\n",
       "      <th>brand</th>\n",
       "      <th>feature</th>\n",
       "      <th>rank</th>\n",
       "      <th>also_view</th>\n",
       "      <th>main_cat</th>\n",
       "      <th>similar_item</th>\n",
       "      <th>date</th>\n",
       "      <th>price</th>\n",
       "      <th>asin</th>\n",
       "      <th>imageURL</th>\n",
       "      <th>imageURLHighRes</th>\n",
       "      <th>details</th>\n",
       "    </tr>\n",
       "  </thead>\n",
       "  <tbody>\n",
       "    <tr>\n",
       "      <th>count</th>\n",
       "      <td>962300</td>\n",
       "      <td>15953</td>\n",
       "      <td>962300</td>\n",
       "      <td>41153</td>\n",
       "      <td>962284</td>\n",
       "      <td>962300</td>\n",
       "      <td>31</td>\n",
       "      <td>865273</td>\n",
       "      <td>962300</td>\n",
       "      <td>962300</td>\n",
       "      <td>962300</td>\n",
       "      <td>958961</td>\n",
       "      <td>22254</td>\n",
       "      <td>120450</td>\n",
       "      <td>405740</td>\n",
       "      <td>962300</td>\n",
       "      <td>962300</td>\n",
       "      <td>962300</td>\n",
       "      <td>962162</td>\n",
       "    </tr>\n",
       "    <tr>\n",
       "      <th>unique</th>\n",
       "      <td>50895</td>\n",
       "      <td>15378</td>\n",
       "      <td>596047</td>\n",
       "      <td>14310</td>\n",
       "      <td>913754</td>\n",
       "      <td>239234</td>\n",
       "      <td>31</td>\n",
       "      <td>75427</td>\n",
       "      <td>593270</td>\n",
       "      <td>842783</td>\n",
       "      <td>331054</td>\n",
       "      <td>42</td>\n",
       "      <td>22090</td>\n",
       "      <td>61748</td>\n",
       "      <td>62068</td>\n",
       "      <td>957217</td>\n",
       "      <td>421134</td>\n",
       "      <td>420294</td>\n",
       "      <td>790808</td>\n",
       "    </tr>\n",
       "    <tr>\n",
       "      <th>top</th>\n",
       "      <td>[]</td>\n",
       "      <td>class=\"a-keyvalue prodDetTable\" role=\"present...</td>\n",
       "      <td>[]</td>\n",
       "      <td>class=\"a-normal a-align-center a-spacing-smal...</td>\n",
       "      <td>Majestic MLB Mens T-Shirt</td>\n",
       "      <td>[]</td>\n",
       "      <td>class=\"a-keyvalue prodDetTable\" role=\"present...</td>\n",
       "      <td>Majestic</td>\n",
       "      <td>[]</td>\n",
       "      <td>[]</td>\n",
       "      <td>[]</td>\n",
       "      <td>Sports &amp; Outdoors</td>\n",
       "      <td>class=\"a-bordered a-horizontal-stripes  a-spa...</td>\n",
       "      <td>&lt;div class=\"a-fixed-left-grid a-spacing-none\"&gt;...</td>\n",
       "      <td>$9.99</td>\n",
       "      <td>B0002LODEQ</td>\n",
       "      <td>[]</td>\n",
       "      <td>[]</td>\n",
       "      <td>{}</td>\n",
       "    </tr>\n",
       "    <tr>\n",
       "      <th>freq</th>\n",
       "      <td>68321</td>\n",
       "      <td>19</td>\n",
       "      <td>150771</td>\n",
       "      <td>809</td>\n",
       "      <td>322</td>\n",
       "      <td>696170</td>\n",
       "      <td>1</td>\n",
       "      <td>12148</td>\n",
       "      <td>158207</td>\n",
       "      <td>19604</td>\n",
       "      <td>605315</td>\n",
       "      <td>810640</td>\n",
       "      <td>2</td>\n",
       "      <td>19674</td>\n",
       "      <td>6272</td>\n",
       "      <td>2</td>\n",
       "      <td>485817</td>\n",
       "      <td>485817</td>\n",
       "      <td>156104</td>\n",
       "    </tr>\n",
       "  </tbody>\n",
       "</table>\n",
       "</div>"
      ],
      "text/plain": [
       "       category                                              tech1  \\\n",
       "count    962300                                              15953   \n",
       "unique    50895                                              15378   \n",
       "top          []   class=\"a-keyvalue prodDetTable\" role=\"present...   \n",
       "freq      68321                                                 19   \n",
       "\n",
       "       description                                                fit  \\\n",
       "count       962300                                              41153   \n",
       "unique      596047                                              14310   \n",
       "top             []   class=\"a-normal a-align-center a-spacing-smal...   \n",
       "freq        150771                                                809   \n",
       "\n",
       "                            title also_buy  \\\n",
       "count                      962284   962300   \n",
       "unique                     913754   239234   \n",
       "top     Majestic MLB Mens T-Shirt       []   \n",
       "freq                          322   696170   \n",
       "\n",
       "                                                    tech2     brand feature  \\\n",
       "count                                                  31    865273  962300   \n",
       "unique                                                 31     75427  593270   \n",
       "top      class=\"a-keyvalue prodDetTable\" role=\"present...  Majestic      []   \n",
       "freq                                                    1     12148  158207   \n",
       "\n",
       "          rank also_view           main_cat  \\\n",
       "count   962300    962300             958961   \n",
       "unique  842783    331054                 42   \n",
       "top         []        []  Sports & Outdoors   \n",
       "freq     19604    605315             810640   \n",
       "\n",
       "                                             similar_item  \\\n",
       "count                                               22254   \n",
       "unique                                              22090   \n",
       "top      class=\"a-bordered a-horizontal-stripes  a-spa...   \n",
       "freq                                                    2   \n",
       "\n",
       "                                                     date   price        asin  \\\n",
       "count                                              120450  405740      962300   \n",
       "unique                                              61748   62068      957217   \n",
       "top     <div class=\"a-fixed-left-grid a-spacing-none\">...   $9.99  B0002LODEQ   \n",
       "freq                                                19674    6272           2   \n",
       "\n",
       "       imageURL imageURLHighRes details  \n",
       "count    962300          962300  962162  \n",
       "unique   421134          420294  790808  \n",
       "top          []              []      {}  \n",
       "freq     485817          485817  156104  "
      ]
     },
     "execution_count": 6,
     "metadata": {},
     "output_type": "execute_result"
    }
   ],
   "source": [
    "df_meta.describe()"
   ]
  },
  {
   "cell_type": "code",
   "execution_count": 7,
   "metadata": {},
   "outputs": [
    {
     "data": {
      "text/plain": [
       "category                0\n",
       "tech1              946347\n",
       "description             0\n",
       "fit                921147\n",
       "title                  16\n",
       "also_buy                0\n",
       "tech2              962269\n",
       "brand               97027\n",
       "feature                 0\n",
       "rank                    0\n",
       "also_view               0\n",
       "main_cat             3339\n",
       "similar_item       940046\n",
       "date               841850\n",
       "price              556560\n",
       "asin                    0\n",
       "imageURL                0\n",
       "imageURLHighRes         0\n",
       "details               138\n",
       "dtype: int64"
      ]
     },
     "execution_count": 7,
     "metadata": {},
     "output_type": "execute_result"
    }
   ],
   "source": [
    "null_values = df_meta.isnull().sum()\n",
    "null_values\n",
    "#tech1: 946347, fit: 921147, tech2: 962269, similar_item: 940046, date: 841850, price: 556560, brand: 97027, main_cat: 3339,  details: 138"
   ]
  },
  {
   "cell_type": "code",
   "execution_count": 25,
   "metadata": {},
   "outputs": [
    {
     "name": "stdout",
     "output_type": "stream",
     "text": [
      "Count of []:  0\n"
     ]
    }
   ],
   "source": [
    "# Need to look through this as there is alot of them. The columns which contain [] \n",
    "#Category: 68321, also_buy: 696170, feature: 158207, rank: 19604, also_view: 605315\n",
    "count = df_meta['main_cat'].apply(lambda x: x == \"[]\").sum()\n",
    "print(\"Count of []: \", count)"
   ]
  },
  {
   "cell_type": "code",
   "execution_count": 8,
   "metadata": {},
   "outputs": [
    {
     "data": {
      "text/plain": [
       "overall                  0\n",
       "verified                 0\n",
       "reviewTime               0\n",
       "reviewerID               0\n",
       "asin                     0\n",
       "reviewerName          1866\n",
       "reviewText            9828\n",
       "summary               4155\n",
       "unixReviewTime           0\n",
       "vote              11389293\n",
       "style              5721517\n",
       "image             12695230\n",
       "dtype: int64"
      ]
     },
     "execution_count": 8,
     "metadata": {},
     "output_type": "execute_result"
    }
   ],
   "source": [
    "null_values = df_sports_and_outdoors.isnull().sum()\n",
    "null_values\n",
    "#reviewerName: 1866, reviewText: 9828, summary: 4155, vote: 11389293, style: 5721517, image: 12695230 "
   ]
  },
  {
   "cell_type": "markdown",
   "metadata": {},
   "source": [
    "## Data Visualiation"
   ]
  },
  {
   "cell_type": "code",
   "execution_count": null,
   "metadata": {},
   "outputs": [],
   "source": []
  },
  {
   "cell_type": "markdown",
   "metadata": {},
   "source": [
    "## Data Cleaning"
   ]
  },
  {
   "cell_type": "code",
   "execution_count": 9,
   "metadata": {},
   "outputs": [],
   "source": [
    "columns_to_drop = ['imageURL', 'imageURLHighRes','fit', 'tech1', 'tech2', 'price','tech2', 'price','date','similar_item' ]\n",
    "df_meta = df_meta.drop(columns=columns_to_drop)"
   ]
  },
  {
   "cell_type": "code",
   "execution_count": 10,
   "metadata": {},
   "outputs": [],
   "source": [
    "columns_to_drop = ['image', 'unixReviewTime', 'style','vote']\n",
    "df_sports_and_outdoors = df_sports_and_outdoors.drop(columns=columns_to_drop)"
   ]
  },
  {
   "cell_type": "code",
   "execution_count": 54,
   "metadata": {},
   "outputs": [
    {
     "data": {
      "text/plain": [
       "overall            0\n",
       "verified           0\n",
       "reviewTime         0\n",
       "reviewerID         0\n",
       "asin               0\n",
       "reviewerName    1866\n",
       "reviewText      9828\n",
       "summary         4155\n",
       "dtype: int64"
      ]
     },
     "execution_count": 54,
     "metadata": {},
     "output_type": "execute_result"
    }
   ],
   "source": [
    "df_sports_and_outdoors.isnull().sum()"
   ]
  },
  {
   "cell_type": "code",
   "execution_count": 55,
   "metadata": {},
   "outputs": [
    {
     "data": {
      "text/html": [
       "<div>\n",
       "<style scoped>\n",
       "    .dataframe tbody tr th:only-of-type {\n",
       "        vertical-align: middle;\n",
       "    }\n",
       "\n",
       "    .dataframe tbody tr th {\n",
       "        vertical-align: top;\n",
       "    }\n",
       "\n",
       "    .dataframe thead th {\n",
       "        text-align: right;\n",
       "    }\n",
       "</style>\n",
       "<table border=\"1\" class=\"dataframe\">\n",
       "  <thead>\n",
       "    <tr style=\"text-align: right;\">\n",
       "      <th></th>\n",
       "      <th>category</th>\n",
       "      <th>description</th>\n",
       "      <th>title</th>\n",
       "      <th>also_buy</th>\n",
       "      <th>brand</th>\n",
       "      <th>feature</th>\n",
       "      <th>rank</th>\n",
       "      <th>also_view</th>\n",
       "      <th>main_cat</th>\n",
       "      <th>asin</th>\n",
       "      <th>details</th>\n",
       "      <th>overall</th>\n",
       "      <th>verified</th>\n",
       "      <th>reviewTime</th>\n",
       "      <th>reviewerID</th>\n",
       "      <th>reviewerName</th>\n",
       "      <th>reviewText</th>\n",
       "      <th>summary</th>\n",
       "    </tr>\n",
       "  </thead>\n",
       "  <tbody>\n",
       "    <tr>\n",
       "      <th>0</th>\n",
       "      <td>['Sports &amp; Outdoors', 'Sports &amp; Fitness', 'Oth...</td>\n",
       "      <td>['3 layers of super-soft polyester tulle can b...</td>\n",
       "      <td>Adult Tutu Assorted Colors (Turquoise)</td>\n",
       "      <td>[]</td>\n",
       "      <td>BubuBibi</td>\n",
       "      <td>['3 Layers - 100% Polyester Tulle, Hand Wash L...</td>\n",
       "      <td>712,899 in Clothing, Shoes &amp; Jewelry (</td>\n",
       "      <td>['B071LQWQBQ', 'B00M14DG0O', 'B076GTTY9W', 'B0...</td>\n",
       "      <td>&lt;img src=\"https://images-na.ssl-images-amazon....</td>\n",
       "      <td>0000032042</td>\n",
       "      <td>NaN</td>\n",
       "      <td>5.0</td>\n",
       "      <td>True</td>\n",
       "      <td>05 2, 2016</td>\n",
       "      <td>AN5DRYRTXRBDW</td>\n",
       "      <td>Rita913</td>\n",
       "      <td>I am at the larger end of the size spectrum (s...</td>\n",
       "      <td>Looks Great</td>\n",
       "    </tr>\n",
       "    <tr>\n",
       "      <th>1</th>\n",
       "      <td>['Sports &amp; Outdoors', 'Sports &amp; Fitness', 'Oth...</td>\n",
       "      <td>['3 layers of super-soft polyester tulle can b...</td>\n",
       "      <td>Adult Tutu Assorted Colors (Turquoise)</td>\n",
       "      <td>[]</td>\n",
       "      <td>BubuBibi</td>\n",
       "      <td>['3 Layers - 100% Polyester Tulle, Hand Wash L...</td>\n",
       "      <td>712,899 in Clothing, Shoes &amp; Jewelry (</td>\n",
       "      <td>['B071LQWQBQ', 'B00M14DG0O', 'B076GTTY9W', 'B0...</td>\n",
       "      <td>&lt;img src=\"https://images-na.ssl-images-amazon....</td>\n",
       "      <td>0000032042</td>\n",
       "      <td>NaN</td>\n",
       "      <td>5.0</td>\n",
       "      <td>True</td>\n",
       "      <td>05 2, 2016</td>\n",
       "      <td>A2INZEU0RHYV7B</td>\n",
       "      <td>sabander</td>\n",
       "      <td>Perfect!!</td>\n",
       "      <td>Five Stars</td>\n",
       "    </tr>\n",
       "  </tbody>\n",
       "</table>\n",
       "</div>"
      ],
      "text/plain": [
       "                                            category  \\\n",
       "0  ['Sports & Outdoors', 'Sports & Fitness', 'Oth...   \n",
       "1  ['Sports & Outdoors', 'Sports & Fitness', 'Oth...   \n",
       "\n",
       "                                         description  \\\n",
       "0  ['3 layers of super-soft polyester tulle can b...   \n",
       "1  ['3 layers of super-soft polyester tulle can b...   \n",
       "\n",
       "                                    title also_buy     brand  \\\n",
       "0  Adult Tutu Assorted Colors (Turquoise)       []  BubuBibi   \n",
       "1  Adult Tutu Assorted Colors (Turquoise)       []  BubuBibi   \n",
       "\n",
       "                                             feature  \\\n",
       "0  ['3 Layers - 100% Polyester Tulle, Hand Wash L...   \n",
       "1  ['3 Layers - 100% Polyester Tulle, Hand Wash L...   \n",
       "\n",
       "                                     rank  \\\n",
       "0  712,899 in Clothing, Shoes & Jewelry (   \n",
       "1  712,899 in Clothing, Shoes & Jewelry (   \n",
       "\n",
       "                                           also_view  \\\n",
       "0  ['B071LQWQBQ', 'B00M14DG0O', 'B076GTTY9W', 'B0...   \n",
       "1  ['B071LQWQBQ', 'B00M14DG0O', 'B076GTTY9W', 'B0...   \n",
       "\n",
       "                                            main_cat        asin details  \\\n",
       "0  <img src=\"https://images-na.ssl-images-amazon....  0000032042     NaN   \n",
       "1  <img src=\"https://images-na.ssl-images-amazon....  0000032042     NaN   \n",
       "\n",
       "   overall  verified  reviewTime      reviewerID reviewerName  \\\n",
       "0      5.0      True  05 2, 2016   AN5DRYRTXRBDW      Rita913   \n",
       "1      5.0      True  05 2, 2016  A2INZEU0RHYV7B     sabander   \n",
       "\n",
       "                                          reviewText      summary  \n",
       "0  I am at the larger end of the size spectrum (s...  Looks Great  \n",
       "1                                          Perfect!!   Five Stars  "
      ]
     },
     "execution_count": 55,
     "metadata": {},
     "output_type": "execute_result"
    }
   ],
   "source": [
    "#Merging the 2 datasets \n",
    "# merge_df = pd.merge(df_meta, df_sports_and_outdoors, how='inner', on='asin')\n",
    "# merge_df.head(2)"
   ]
  },
  {
   "cell_type": "markdown",
   "metadata": {},
   "source": [
    "## Data Transformation"
   ]
  },
  {
   "cell_type": "code",
   "execution_count": null,
   "metadata": {},
   "outputs": [],
   "source": []
  },
  {
   "cell_type": "markdown",
   "metadata": {},
   "source": [
    "## Data Splitting"
   ]
  },
  {
   "cell_type": "code",
   "execution_count": null,
   "metadata": {},
   "outputs": [],
   "source": []
  },
  {
   "cell_type": "markdown",
   "metadata": {},
   "source": [
    "## Model Training"
   ]
  },
  {
   "cell_type": "code",
   "execution_count": null,
   "metadata": {},
   "outputs": [],
   "source": []
  },
  {
   "cell_type": "markdown",
   "metadata": {},
   "source": [
    "## Model Evaluation"
   ]
  },
  {
   "cell_type": "code",
   "execution_count": null,
   "metadata": {},
   "outputs": [],
   "source": []
  },
  {
   "cell_type": "markdown",
   "metadata": {},
   "source": [
    "## Post-Processing"
   ]
  },
  {
   "cell_type": "code",
   "execution_count": null,
   "metadata": {},
   "outputs": [],
   "source": []
  }
 ],
 "metadata": {
  "kernelspec": {
   "display_name": "Dissertation",
   "language": "python",
   "name": "python3"
  },
  "language_info": {
   "codemirror_mode": {
    "name": "ipython",
    "version": 3
   },
   "file_extension": ".py",
   "mimetype": "text/x-python",
   "name": "python",
   "nbconvert_exporter": "python",
   "pygments_lexer": "ipython3",
   "version": "3.9.18"
  }
 },
 "nbformat": 4,
 "nbformat_minor": 2
}
